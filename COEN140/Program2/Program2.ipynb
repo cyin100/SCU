{
 "cells": [
  {
   "cell_type": "code",
   "execution_count": 3,
   "id": "56432fd6",
   "metadata": {},
   "outputs": [],
   "source": [
    "# Imports\n",
    "import pandas as pd\n",
    "import numpy as np\n",
    "import sklearn\n",
    "from sklearn.linear_model import LinearRegression\n",
    "from sklearn.decomposition import PCA\n",
    "from sklearn.decomposition import TruncatedSVD\n",
    "from sklearn.random_projection import GaussianRandomProjection\n",
    "from sklearn.manifold import LocallyLinearEmbedding\n",
    "from sklearn.metrics import mean_squared_error"
   ]
  },
  {
   "cell_type": "code",
   "execution_count": 4,
   "id": "72e86f06",
   "metadata": {},
   "outputs": [],
   "source": [
    "# List of binary fields (either Y/N or X/blank)\n",
    "yes_no =  ['COLLECT1', 'VETERANS', 'BIBLE', 'CATLG', 'HOMEE', 'PETS', 'CDPLAY', 'STEREO', 'PCOWNERS', 'PHOTO', 'CRAFTS',\n",
    "        'GARDENIN', 'BOATS', 'WALKER', 'KIDSTUFF', 'CARDS', 'PLATES']\n",
    "x_blank = ['NOEXCH', 'RECINHSE', 'RECP3', 'RECPGVG', 'RECSWEEP', 'MAJOR', 'PEPSTRFL']\n",
    "\n",
    "# List of numerical fields (non-nominal)\n",
    "numerical = ['AGE', 'NUMCHLD', 'INCOME', 'MBCRAFT', 'MBGARDEN', 'MBBOOKS', 'MBCOLECT', 'MAGFAML', 'MAGFEM', 'MAGMALE', \n",
    "             'PUBGARDN', 'PUBCULIN', 'PUBHLTH', 'PUBDOITY', 'PUBNEWFN', 'PUBPHOTO', 'PUBOPP', 'MALEMILI', 'MALEVET', \n",
    "             'VIETVETS', 'WWIIVETS', 'LOCALGOV', 'STATEGOV', 'FEDGOV', 'POP901', 'POP902', 'POP903', 'POP90C1', 'POP90C2', \n",
    "             'POP90C3', 'POP90C4', 'POP90C5', 'ETH1', 'ETH2', 'ETH3', 'ETH4', 'ETH5', 'ETH6', 'ETH7', 'ETH8', 'ETH9', \n",
    "             'ETH10', 'ETH11', 'ETH12', 'ETH13', 'ETH14', 'ETH15', 'ETH16', 'AGE901', 'AGE902', 'AGE903', 'AGE904', \n",
    "             'AGE905', 'AGE906', 'AGE907', 'CHIL1', 'CHIL2', 'CHIL3', 'AGEC1', 'AGEC2', 'AGEC3', 'AGEC4', 'AGEC5', 'AGEC6', \n",
    "             'AGEC7', 'CHILC1', 'CHILC2', 'CHILC3', 'CHILC4', 'CHILC5', 'HHAGE1', 'HHAGE2', 'HHAGE3', 'HHN1', 'HHN2', 'HHN3',\n",
    "             'HHN4', 'HHN5', 'HHN6', 'MARR1', 'MARR2', 'MARR3', 'MARR4', 'HHP1', 'HHP2', 'DW1', 'DW2', 'DW3', 'DW4', 'DW5', \n",
    "             'DW6', 'DW7', 'DW8', 'DW9', 'HV1', 'HV2', 'HV3', 'HV4', 'HU1', 'HU2', 'HU3', 'HU4', 'HU5', 'HHD1', 'HHD2', \n",
    "             'HHD3', 'HHD4', 'HHD5', 'HHD6', 'HHD7', 'HHD8', 'HHD9', 'HHD10', 'HHD11', 'HHD12', 'ETHC1', 'ETHC2', 'ETHC3', \n",
    "             'ETHC4', 'ETHC5', 'ETHC6', 'HVP1', 'HVP2', 'HVP3', 'HVP4', 'HVP5', 'HVP6', 'HUR1', 'HUR2', 'RHP1', 'RHP2', \n",
    "             'RHP3', 'RHP4', 'HUPA1', 'HUPA2', 'HUPA3', 'HUPA4', 'HUPA5', 'HUPA6', 'HUPA7', 'RP1', 'RP2', 'RP3', 'RP4', \n",
    "             'MSA', 'ADI', 'DMA', 'IC1', 'IC2', 'IC3', 'IC4', 'IC5', 'IC6', 'IC7', 'IC8', 'IC9', 'IC10', 'IC11', 'IC12', \n",
    "             'IC13', 'IC14', 'IC15', 'IC16', 'IC17', 'IC18', 'IC19', 'IC20', 'IC21', 'IC22', 'IC23', 'HHAS1', 'HHAS2', \n",
    "             'HHAS3', 'HHAS4', 'MC1', 'MC2', 'MC3', 'TPE1', 'TPE2', 'TPE3', 'TPE4', 'TPE5', 'TPE6', 'TPE7', 'TPE8', 'TPE9', \n",
    "             'PEC1', 'PEC2', 'TPE10', 'TPE11', 'TPE12', 'TPE13', 'LFC1', 'LFC2', 'LFC3', 'LFC4', 'LFC5', 'LFC6', 'LFC7', \n",
    "             'LFC8', 'LFC9', 'LFC10', 'OCC1', 'OCC2', 'OCC3', 'OCC4', 'OCC5', 'OCC6', 'OCC7', 'OCC8', 'OCC9', 'OCC10', \n",
    "             'OCC11', 'OCC12', 'OCC13', 'EIC1', 'EIC2', 'EIC3', 'EIC4', 'EIC5', 'EIC6', 'EIC7', 'EIC8', 'EIC9', 'EIC10', \n",
    "             'EIC11', 'EIC12', 'EIC13', 'EIC14', 'EIC15', 'EIC16', 'OEDC1', 'OEDC2', 'OEDC3', 'EC1', 'EC2', 'EC3', 'EC4', \n",
    "             'EC5', 'EC6', 'EC7', 'EC8', 'SEC1', 'SEC2', 'SEC3', 'SEC4', 'SEC5', 'AFC1', 'AFC2', 'AFC3', 'AFC4', 'AFC5', \n",
    "             'AFC6', 'VC1', 'VC2', 'VC3', 'VC4', 'ANC1', 'ANC2', 'ANC3', 'ANC4', 'ANC5', 'ANC6', 'ANC7', 'ANC8', 'ANC9', \n",
    "             'ANC10', 'ANC11', 'ANC12', 'ANC13', 'ANC14', 'ANC15', 'POBC1', 'POBC2', 'LSC1', 'LSC2', 'LSC3', 'LSC4', 'VOC1', \n",
    "             'VOC2', 'VOC3', 'HC1', 'HC2', 'HC3', 'HC4', 'HC5', 'HC6', 'HC7', 'HC8', 'HC9', 'HC10', 'HC11', 'HC12', 'HC13', \n",
    "             'HC14', 'HC15', 'HC16', 'HC17', 'HC18', 'HC19', 'HC20', 'HC21', 'MHUC1', 'MHUC2', 'AC1', 'AC2', 'CARDPROM', \n",
    "             'NUMPROM', 'CARDPM12', 'NUMPRM12', 'RAMNT_3', 'RAMNT_4', 'RAMNT_5', 'RAMNT_6', 'RAMNT_7', 'RAMNT_8', 'RAMNT_9', \n",
    "             'RAMNT_10', 'RAMNT_11', 'RAMNT_12', 'RAMNT_13', 'RAMNT_14', 'RAMNT_15', 'RAMNT_16', 'RAMNT_17', 'RAMNT_18', \n",
    "             'RAMNT_19', 'RAMNT_20', 'RAMNT_21', 'RAMNT_22', 'RAMNT_23', 'RAMNT_24', 'RAMNTALL', 'NGIFTALL', 'CARDGIFT', \n",
    "             'MINRAMNT', 'MINRDATE', 'MAXRAMNT', 'MAXRDATE', 'LASTGIFT', 'LASTDATE', 'FISTDATE', 'NEXTDATE', 'TIMELAG', \n",
    "             'AVGGIFT']"
   ]
  },
  {
   "cell_type": "code",
   "execution_count": 5,
   "id": "932f67c4",
   "metadata": {
    "scrolled": true
   },
   "outputs": [],
   "source": [
    "# Import train and test datasets\n",
    "train_data = pd.read_csv('train.dat.bz2', dtype = str)\n",
    "test_data = pd.read_csv('test.dat.bz2', dtype = str)\n",
    "target = train_data['TARGET']"
   ]
  },
  {
   "cell_type": "code",
   "execution_count": 6,
   "id": "2063081c",
   "metadata": {},
   "outputs": [],
   "source": [
    "# Pre-processing function\n",
    "def preprocess(df):\n",
    "    \n",
    "    for col in df:\n",
    "        # If binary column, replace with 1s and 0s\n",
    "        if col in yes_no:\n",
    "            df[col] = df[col].replace('Y', 1)\n",
    "            df[col] = df[col].replace('N', 0)\n",
    "        elif col in x_blank:\n",
    "            df[col] = df[col].replace('X', 1)\n",
    "        # Delete column if not binary/numerical \n",
    "        elif col not in numerical:\n",
    "            df = df.drop(col, axis=1)\n",
    "\n",
    "    # Replace empty datapoints with 0, convert df to float64 datatype\n",
    "    df = df.fillna(0)\n",
    "    df = df.replace('', 0)\n",
    "    df = df.replace(' ', 0)\n",
    "    df = df.astype('float64')\n",
    "    \n",
    "    return df"
   ]
  },
  {
   "cell_type": "code",
   "execution_count": 7,
   "id": "907c6a00",
   "metadata": {},
   "outputs": [],
   "source": [
    "# Preprocess train and test data\n",
    "train_data = preprocess(train_data)\n",
    "test_data = preprocess(test_data)"
   ]
  },
  {
   "cell_type": "code",
   "execution_count": 24,
   "id": "0db0ddf1",
   "metadata": {},
   "outputs": [],
   "source": [
    "# Testing with splitting off training data\n",
    "lines = 3000\n",
    "X_train = train_data[:-1*lines]\n",
    "X_test = train_data.iloc[-1*lines:]\n",
    "Y_train = target[:-1*lines]\n",
    "Y_test = target[-1*lines:]"
   ]
  },
  {
   "cell_type": "code",
   "execution_count": 33,
   "id": "0bf9e4ee",
   "metadata": {},
   "outputs": [],
   "source": [
    "# Principle Component Analysis (PCA)\n",
    "def pca(components):\n",
    "    pca = PCA(n_components=components)\n",
    "    X_train_pca = pca.fit_transform(X_train)\n",
    "    X_test_pca = pca.fit_transform(X_test)\n",
    "    return [X_train_pca, X_test_pca]\n",
    "\n",
    "# Singular Value Decomposition (SVD)\n",
    "def svd(components):\n",
    "    svd = TruncatedSVD(n_components=components)\n",
    "    X_train_svd = svd.fit_transform(X_train)\n",
    "    X_test_svd = svd.fit_transform(X_test)\n",
    "    return [X_train_svd, X_test_svd]\n",
    "\n",
    "# Random Projection (RP)\n",
    "def rp(components):\n",
    "    rp = GaussianRandomProjection(n_components=components, random_state=1)\n",
    "    X_train_rp = rp.fit_transform(X_train)\n",
    "    X_test_rp = rp.fit_transform(X_test)\n",
    "    return [X_train_rp, X_test_rp]\n",
    "\n",
    "# Locally Linear Embedding (LLE)\n",
    "def lle(components):\n",
    "    lle = LocallyLinearEmbedding(n_components=components)\n",
    "    X_train_lle = lle.fit_transform(X_train)\n",
    "    X_test_lle = lle.fit_transform(X_test)\n",
    "    return [X_train_lle, X_test_lle]"
   ]
  },
  {
   "cell_type": "code",
   "execution_count": 40,
   "id": "37671526",
   "metadata": {},
   "outputs": [
    {
     "name": "stdout",
     "output_type": "stream",
     "text": [
      "['RP', 1, 3.867014412147527]]]]\n",
      "['SVD', 2, 3.8683395276250416]\n",
      "['SVD', 3, 3.8688815439123228]\n",
      "['SVD', 4, 3.8695741164399187]\n",
      "['SVD', 1, 3.8702366446089678]\n",
      "['RP', 2, 3.870262165310155]\n",
      "['PCA', 1, 3.8702703017445153]\n",
      "['RP', 3, 3.8704023707837023]\n",
      "['PCA', 2, 3.8704233612174694]\n",
      "['PCA', 3, 3.870463304135017]\n"
     ]
    }
   ],
   "source": [
    "# Testing different functions\n",
    "errors = []\n",
    "for f in [pca, svd, rp]:\n",
    "    for c in range(1, 31):\n",
    "\n",
    "        # Modified train and test set through function\n",
    "        X_train_mod, X_test_mod = f(c)[0], f(c)[1]\n",
    "\n",
    "        # Linear Regression Model\n",
    "        lr = LinearRegression()\n",
    "        lr.fit(X_train_mod, Y_train)\n",
    "\n",
    "        # Calculate RMSE\n",
    "        y_pred = lr.predict(X_test_mod)\n",
    "        mse = mean_squared_error(Y_test, y_pred)\n",
    "        rmse = np.sqrt(mse)\n",
    "        \n",
    "        # Append entry and print for progress tracking\n",
    "        entry = [f.__name__.upper(), c, rmse]\n",
    "        errors.append(entry)\n",
    "        print(entry, end='\\r')\n",
    "\n",
    "# Sort 10 lowest RMSEs\n",
    "errors.sort(key=lambda x:x[2])\n",
    "for i in range(10):\n",
    "    print(errors[i])\n",
    "    \n",
    "# ['RP', 1, 3.867014412147527]\n",
    "# ['SVD', 2, 3.8683395276250416]\n",
    "# ['SVD', 3, 3.8688815439123228]\n",
    "# ['SVD', 4, 3.8695741164399187]\n",
    "# ['SVD', 1, 3.8702366446089678]\n",
    "# ['RP', 2, 3.870262165310155]\n",
    "# ['PCA', 1, 3.8702703017445157]\n",
    "# ['RP', 3, 3.8704023707837023]\n",
    "# ['PCA', 2, 3.870423361217469]\n",
    "# ['PCA', 3, 3.8704633041350167]"
   ]
  },
  {
   "cell_type": "code",
   "execution_count": 13,
   "id": "5c437eaa",
   "metadata": {},
   "outputs": [],
   "source": [
    "# Implement method\n",
    "method = PCA(n_components=2)\n",
    "train_mod = method.fit_transform(train_data)\n",
    "test_mod = method.fit_transform(test_data)\n",
    "\n",
    "# Linear regression\n",
    "model = LinearRegression().fit(train_mod, target)\n",
    "results = model.predict(test_mod)"
   ]
  },
  {
   "cell_type": "code",
   "execution_count": 14,
   "id": "4e5f87c0",
   "metadata": {},
   "outputs": [],
   "source": [
    "# Write to prediction.txt file\n",
    "with open('prediction.txt', 'w') as f:\n",
    "    for result in results:\n",
    "        f.write(f\"{result}\\n\")"
   ]
  },
  {
   "cell_type": "code",
   "execution_count": null,
   "id": "fddf6102",
   "metadata": {},
   "outputs": [],
   "source": []
  }
 ],
 "metadata": {
  "kernelspec": {
   "display_name": "Python 3 (ipykernel)",
   "language": "python",
   "name": "python3"
  },
  "language_info": {
   "codemirror_mode": {
    "name": "ipython",
    "version": 3
   },
   "file_extension": ".py",
   "mimetype": "text/x-python",
   "name": "python",
   "nbconvert_exporter": "python",
   "pygments_lexer": "ipython3",
   "version": "3.10.9"
  }
 },
 "nbformat": 4,
 "nbformat_minor": 5
}
