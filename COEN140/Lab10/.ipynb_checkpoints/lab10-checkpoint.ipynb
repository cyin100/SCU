{
 "cells": [
  {
   "cell_type": "markdown",
   "metadata": {
    "id": "Iwm55R6tRA88"
   },
   "source": [
    "# Feed Forward Neural Network"
   ]
  },
  {
   "cell_type": "code",
   "execution_count": 1,
   "metadata": {
    "id": "PyoR4baDP6yi"
   },
   "outputs": [],
   "source": [
    "# Importing libraries and dataset\n",
    "import torch\n",
    "import numpy as np\n",
    "import matplotlib.pyplot as plt\n",
    "import torch\n",
    "import numpy as np\n",
    "from sklearn.datasets import load_diabetes\n",
    "from torch.utils.data import Dataset, DataLoader\n",
    "from torch import nn"
   ]
  },
  {
   "cell_type": "code",
   "execution_count": 2,
   "metadata": {
    "id": "j3oKz-TFRbA_"
   },
   "outputs": [],
   "source": [
    "# Loading the dataset\n",
    "data = load_diabetes()\n",
    "x = data['data']\n",
    "y = data['target']"
   ]
  },
  {
   "cell_type": "code",
   "execution_count": 3,
   "metadata": {
    "colab": {
     "base_uri": "https://localhost:8080/"
    },
    "id": "DM5hwFaDRvXb",
    "outputId": "a4905504-952a-4394-af53-9feff6c5b7a4"
   },
   "outputs": [
    {
     "name": "stdout",
     "output_type": "stream",
     "text": [
      "shape of x is :  (442, 10)\n",
      "shape of y is :  (442,)\n"
     ]
    }
   ],
   "source": [
    "# Print the shape\n",
    "print('shape of x is : ',x.shape)\n",
    "print('shape of y is : ',y.shape)"
   ]
  },
  {
   "cell_type": "markdown",
   "metadata": {
    "id": "WBuryzTWR4oH"
   },
   "source": [
    "Dataset and dataloaders\n",
    "\n",
    "In PyTorch, the class dataset covers the data in a tuple so as to make each data of the index accessible during training. \n",
    "\n",
    "In order to shuffle and apply Mini-Batch Gradient Descent or stochastic gradient descent it is necessary to create dataloader class."
   ]
  },
  {
   "cell_type": "code",
   "execution_count": 4,
   "metadata": {
    "id": "kzVxiO_2Rzll"
   },
   "outputs": [],
   "source": [
    "class inputdataset(Dataset):\n",
    "  def __init__(self,x,y):\n",
    "    # initialize the x and y of the dataset and convert them to tensors\n",
    "    self.x = torch.tensor(x,dtype=torch.float32)\n",
    "    self.y = torch.tensor(y,dtype=torch.float32)\n",
    "    self.length = self.x.shape[0]\n",
    "\n",
    "  def __getitem__(self,idx):\n",
    "    # return a particular index (both x and y value) in the dataset\n",
    "    return self.x[idx],self.y[idx]\n",
    "\n",
    "  def __len__(self):\n",
    "    # return the size of the dataset\n",
    "    return self.length"
   ]
  },
  {
   "cell_type": "code",
   "execution_count": 5,
   "metadata": {
    "id": "tg0gFCDFT_n6"
   },
   "outputs": [],
   "source": [
    "dataset = inputdataset(x,y)"
   ]
  },
  {
   "cell_type": "code",
   "execution_count": 6,
   "metadata": {
    "id": "qcggQ4QrUE2w"
   },
   "outputs": [],
   "source": [
    "dataloader = DataLoader(dataset=dataset,shuffle=True,batch_size=100)"
   ]
  },
  {
   "cell_type": "markdown",
   "metadata": {
    "id": "46O7u2ZCU4zj"
   },
   "source": [
    "Create the Neural Network\n",
    "\n",
    "In PyTorch, neural networks are created by using Object Oriented Programming.\n",
    "\n",
    "The Functions are possible because of the class nn.Module from torch which was inherited.\n"
   ]
  },
  {
   "cell_type": "code",
   "execution_count": 7,
   "metadata": {
    "id": "mTJbGp1OUpuS"
   },
   "outputs": [],
   "source": [
    "class net(nn.Module):\n",
    "  def __init__(self,input_size,output_size):     # defining the layers \n",
    "    super(net,self).__init__()\n",
    "    self.l1 = nn.Linear(input_size,5)\n",
    "    self.relu = nn.ReLU()\n",
    "    self.l2 = nn.Linear(5,output_size)\n",
    "\n",
    "  def forward(self,x):    # defining the forward pass which is invoked automatically when the class is called\n",
    "    output = self.l1(x) \n",
    "    output = self.relu(output)\n",
    "    output = self.l2(output)\n",
    "    return output"
   ]
  },
  {
   "cell_type": "code",
   "execution_count": 8,
   "metadata": {
    "id": "vKCL9nU2WNax"
   },
   "outputs": [],
   "source": [
    "# Define parameters\n",
    "model = net(x.shape[1],1)\n",
    "criterion = nn.MSELoss()    # Mean Squared Loss because this is a regression problem\n",
    "optimizer = torch.optim.SGD(model.parameters(),lr=0.001)    # takes in weights and biases of the network and learning rate\n",
    "                                                              # weights are updated accordingly\n",
    "epochs = 1500   # Number of iterations for training"
   ]
  },
  {
   "cell_type": "markdown",
   "metadata": {
    "id": "CZt843clZPGX"
   },
   "source": [
    "The trained model is used to predict the values of the same inputs."
   ]
  },
  {
   "cell_type": "code",
   "execution_count": 9,
   "metadata": {
    "id": "OcvSHE16X5xI"
   },
   "outputs": [],
   "source": [
    "cost_value = []\n",
    "loss_values = []\n",
    "\n",
    "for j in range(epochs):\n",
    "  for i,(x_train,y_train) in enumerate(dataloader):\n",
    "    #prediction\n",
    "    y_pred = model(x_train)\n",
    "    \n",
    "    #calculating loss\n",
    "    cost = criterion(y_pred,y_train.reshape(-1,1))\n",
    "    #loss.append(cost)\n",
    "    \n",
    "    #backprop\n",
    "    optimizer.zero_grad()\n",
    "    cost.backward()\n",
    "    optimizer.step()\n",
    "\n",
    "  if j%50 == 0:\n",
    "    #print(cost)\n",
    "    cost_value.append(cost)\n",
    "  \n",
    "#loss_values.append(cost_value / len(x_train))"
   ]
  },
  {
   "cell_type": "markdown",
   "metadata": {
    "id": "rsITt7bsZ2l9"
   },
   "source": [
    "The predicted values are plotted against the actual values. With this plot, we can see that the predicted and actual are almost similar even though there are some errors."
   ]
  },
  {
   "cell_type": "code",
   "execution_count": 10,
   "metadata": {
    "colab": {
     "base_uri": "https://localhost:8080/",
     "height": 450
    },
    "id": "TrlJPLgQPzzn",
    "outputId": "cf407241-e766-4d6a-9b20-01c1ca46100e"
   },
   "outputs": [
    {
     "data": {
      "image/png": "[encoded data removed]",
      "text/plain": [
       "<Figure size 640x480 with 1 Axes>"
      ]
     },
     "metadata": {},
     "output_type": "display_data"
    }
   ],
   "source": [
    "x = y_pred.detach().numpy()\n",
    "y = y_train.detach().numpy()\n",
    "plt.scatter(x, y, color = \"blue\")\n",
    "plt.xlabel(\"y_pred vs y_test\")\n",
    "plt.show()"
   ]
  },
  {
   "cell_type": "markdown",
   "metadata": {
    "id": "l0N9s6M1ROpC"
   },
   "source": [
    "### References\n",
    "1. https://pytorch.org/tutorials/beginner/blitz/neural_networks_tutorial.html\n",
    "2. https://pytorch.org/tutorials/beginner/basics/data_tutorial.html\n",
    "3. https://pytorch.org/tutorials/beginner/data_loading_tutorial.html\n",
    "4. https://pytorch.org/vision/stable/datasets.html"
   ]
  },
  {
   "cell_type": "markdown",
   "metadata": {
    "id": "sqaWyHRvaaaV"
   },
   "source": [
    "# TASK : MNSIT Digit Recognizer\n",
    "\n",
    "1. Implement multilayer neural network that can do digit classification based on the famous MNIST dataset.\n",
    "2. Predict the accuracy on 10000 test images.\n"
   ]
  },
  {
   "cell_type": "code",
   "execution_count": 24,
   "metadata": {
    "id": "NZqrNBL6Jiqw"
   },
   "outputs": [],
   "source": [
    "import torch\n",
    "import torch.nn as nn\n",
    "import torch.optim as optim\n",
    "from torchvision import datasets, transforms"
   ]
  },
  {
   "cell_type": "code",
   "execution_count": 25,
   "metadata": {},
   "outputs": [],
   "source": [
    "# Transform to PyTorch tensor and normalize to pixel values (Mean, SD)\n",
    "transform = transforms.Compose([\n",
    "    transforms.ToTensor(),\n",
    "    transforms.Normalize((0.1307,), (0.3081,))\n",
    "])\n",
    "\n",
    "# Import MNIST data and create DataLoader for Train and Test data\n",
    "train_dataset = datasets.MNIST(root='mnist_data/', train=True, download=True, transform=transform)\n",
    "test_dataset = datasets.MNIST(root='mnist_data/', train=False, download=True, transform=transform)\n",
    "train_loader = torch.utils.data.DataLoader(train_dataset, batch_size=128, shuffle=True)\n",
    "test_loader = torch.utils.data.DataLoader(test_dataset, batch_size=128, shuffle=False)"
   ]
  },
  {
   "cell_type": "code",
   "execution_count": 26,
   "metadata": {},
   "outputs": [],
   "source": [
    "# Multilayer Perceptron (MLP) Neural Network\n",
    "class Net(nn.Module):\n",
    "    \n",
    "    # Define 3 fully connected layers\n",
    "    def __init__(self):\n",
    "        super(Net, self).__init__()\n",
    "        self.fc1 = nn.Linear(28*28, 128)\n",
    "        self.fc2 = nn.Linear(128, 64)\n",
    "        self.fc3 = nn.Linear(64, 10)\n",
    "\n",
    "    # Forward Pass Method\n",
    "    def forward(self, x):\n",
    "        x = torch.relu(self.fc1(x))\n",
    "        x = torch.relu(self.fc2(x))\n",
    "        x = self.fc3(x)\n",
    "        return torch.log_softmax(x, dim=1)"
   ]
  },
  {
   "cell_type": "code",
   "execution_count": 27,
   "metadata": {},
   "outputs": [],
   "source": [
    "# Multilayer Perceptron NN, Cross Entropy Loss, Adam\n",
    "model = Net()\n",
    "criterion = nn.CrossEntropyLoss()          \n",
    "optimizer = optim.Adam(model.parameters(), lr=0.001)"
   ]
  },
  {
   "cell_type": "code",
   "execution_count": 28,
   "metadata": {},
   "outputs": [
    {
     "name": "stdout",
     "output_type": "stream",
     "text": [
      "Epoch 1 - Training Loss: 0.3276\n",
      "Epoch 2 - Training Loss: 0.1275\n",
      "Epoch 3 - Training Loss: 0.0876\n",
      "Epoch 4 - Training Loss: 0.0658\n",
      "Epoch 5 - Training Loss: 0.0523\n",
      "Epoch 6 - Training Loss: 0.0402\n",
      "Epoch 7 - Training Loss: 0.0348\n",
      "Epoch 8 - Training Loss: 0.0306\n",
      "Epoch 9 - Training Loss: 0.0232\n",
      "Epoch 10 - Training Loss: 0.0201\n"
     ]
    }
   ],
   "source": [
    "# Upgrade to GPU if available\n",
    "device = torch.device(\"cuda\" if torch.cuda.is_available() else \"cpu\")\n",
    "model.to(device)\n",
    "\n",
    "# Pass through dataset 10 times\n",
    "epochs = 10\n",
    "for epoch in range(epochs):\n",
    "    running_loss = 0.0\n",
    "    \n",
    "    # Iterate over batches of data from train_loader\n",
    "    for batch_idx, (data, target) in enumerate(train_loader):\n",
    "        \n",
    "        # Shape data to device and (batch size, input size)\n",
    "        data, target = data.to(device), target.to(device)\n",
    "        data = data.view(data.size(0), -1)\n",
    "        \n",
    "        # Clear gradients of optimized parameters\n",
    "        optimizer.zero_grad()\n",
    "        \n",
    "        # Feed through NN model to obtain predicted outputs\n",
    "        output = model(data)\n",
    "        \n",
    "        # Compute loss value and backpropogation, step optimizer\n",
    "        loss = criterion(output, target)\n",
    "        loss.backward()\n",
    "        optimizer.step()\n",
    "        \n",
    "        # Update running loss\n",
    "        running_loss += loss.item()\n",
    "\n",
    "    # Print training loss for epoch\n",
    "    print('Epoch {} - Training Loss: {:.4f}'.format(epoch+1,running_loss/len(train_loader)))"
   ]
  },
  {
   "cell_type": "code",
   "execution_count": 31,
   "metadata": {},
   "outputs": [
    {
     "name": "stdout",
     "output_type": "stream",
     "text": [
      "Accuracy on 10000 test images: 97.95%\n"
     ]
    }
   ],
   "source": [
    "# Set model to evaluation mode\n",
    "model.eval()\n",
    "correct, total = 0, 0\n",
    "\n",
    "# Iterate through test loader, record accuracy of prediction\n",
    "with torch.no_grad():\n",
    "    for data, target in test_loader:\n",
    "        \n",
    "        # Shape data to device and (batch size, input size)\n",
    "        data = data.view(data.size(0), -1)\n",
    "        data, target = data.to(device), target.to(device)\n",
    "        \n",
    "        # Feed input through NN to obtain predicted outputs, find predicted class labels\n",
    "        output = model(data)\n",
    "        _, predicted = torch.max(output.data, 1)\n",
    "        \n",
    "        # Update # correct predictions and total by batch size\n",
    "        total += target.size(0)\n",
    "        correct += (predicted == target).sum().item()\n",
    "\n",
    "# Print Accuracy ((Correct/Total)*100%)\n",
    "print('Accuracy on 10000 test images: {:.2f}%'.format(100*correct/total))"
   ]
  },
  {
   "cell_type": "code",
   "execution_count": 41,
   "metadata": {},
   "outputs": [],
   "source": [
    "# Convolutional Neural Netowrk (CNN)\n",
    "class Net(nn.Module):\n",
    "    def __init__(self):\n",
    "        super(Net, self).__init__()\n",
    "        self.conv1 = nn.Conv2d(1, 16, kernel_size=5, stride=1, padding=2)\n",
    "        self.conv2 = nn.Conv2d(16, 32, kernel_size=5, stride=1, padding=2)\n",
    "        self.fc1 = nn.Linear(32 * 7 * 7, 128)\n",
    "        self.fc2 = nn.Linear(128, 10)\n",
    "\n",
    "    def forward(self, x):\n",
    "        x = nn.functional.relu(self.conv1(x))\n",
    "        x = nn.functional.max_pool2d(x, 2, 2)\n",
    "        x = nn.functional.relu(self.conv2(x))\n",
    "        x = nn.functional.max_pool2d(x, 2, 2)\n",
    "        x = x.view(x.size(0), -1)  # Reshape to (batch_size, 32 * 7 * 7)\n",
    "        x = nn.functional.relu(self.fc1(x))\n",
    "        x = self.fc2(x)\n",
    "        return x"
   ]
  },
  {
   "cell_type": "code",
   "execution_count": 44,
   "metadata": {},
   "outputs": [],
   "source": [
    "# Convolutional NN, Cross Entropy Error Loss, Stochastic Gradient Descent\n",
    "model = Net()\n",
    "criterion = nn.CrossEntropyLoss()\n",
    "optimizer = optim.SGD(model.parameters(), lr=0.01, momentum=0.9)"
   ]
  },
  {
   "cell_type": "code",
   "execution_count": 45,
   "metadata": {},
   "outputs": [
    {
     "name": "stdout",
     "output_type": "stream",
     "text": [
      "Epoch 1 - Training Loss: 0.2785\n",
      "Epoch 2 - Training Loss: 0.0607\n",
      "Epoch 3 - Training Loss: 0.0414\n",
      "Epoch 4 - Training Loss: 0.0324\n",
      "Epoch 5 - Training Loss: 0.0263\n",
      "Epoch 6 - Training Loss: 0.0215\n",
      "Epoch 7 - Training Loss: 0.0186\n",
      "Epoch 8 - Training Loss: 0.0153\n",
      "Epoch 9 - Training Loss: 0.0128\n",
      "Epoch 10 - Training Loss: 0.0106\n"
     ]
    }
   ],
   "source": [
    "# Upgrade to GPU if available\n",
    "device = torch.device(\"cuda\" if torch.cuda.is_available() else \"cpu\")\n",
    "model.to(device)\n",
    "\n",
    "# Pass through dataset 10 times\n",
    "epochs = 10\n",
    "for epoch in range(epochs):\n",
    "    running_loss = 0.0\n",
    "    \n",
    "    # Iterate over batches of data from train_loader\n",
    "    for batch_idx, (data, target) in enumerate(train_loader):\n",
    "        \n",
    "        # Shape data to device and (batch size, input size)\n",
    "        data, target = data.to(device), target.to(device)\n",
    "        \n",
    "        # Clear gradients of optimized parameters\n",
    "        optimizer.zero_grad()\n",
    "        \n",
    "        # Feed through NN model to obtain predicted outputs\n",
    "        output = model(data)\n",
    "        output = output.view(output.size(0), -1)\n",
    "        \n",
    "        # Compute loss value and backpropogation, step optimizer\n",
    "        loss = criterion(output, target)\n",
    "        loss.backward()\n",
    "        optimizer.step()\n",
    "        \n",
    "        # Update running loss\n",
    "        running_loss += loss.item()\n",
    "\n",
    "    # Print training loss for epoch\n",
    "    print('Epoch {} - Training Loss: {:.4f}'.format(epoch+1,running_loss/len(train_loader)))"
   ]
  },
  {
   "cell_type": "code",
   "execution_count": 48,
   "metadata": {},
   "outputs": [
    {
     "name": "stdout",
     "output_type": "stream",
     "text": [
      "Accuracy on 10000 test images: 99.22%\n"
     ]
    }
   ],
   "source": [
    "# Set model to evaluation mode\n",
    "model.eval()\n",
    "correct, total = 0, 0\n",
    "\n",
    "# Iterate through test loader, record accuracy of prediction\n",
    "with torch.no_grad():\n",
    "    for data, target in test_loader:\n",
    "        \n",
    "        # Shape data to device and (batch size, input size)\n",
    "        data = data.view(-1, 1, 28, 28)\n",
    "        data, target = data.to(device), target.to(device)\n",
    "        \n",
    "        # Feed input through NN to obtain predicted outputs, find predicted class labels\n",
    "        output = model(data)\n",
    "        _, predicted = torch.max(output.data, 1)\n",
    "        \n",
    "        # Update # correct predictions and total by batch size\n",
    "        total += target.size(0)\n",
    "        correct += (predicted == target).sum().item()\n",
    "\n",
    "# Print Accuracy ((Correct/Total)*100%)\n",
    "print('Accuracy on 10000 test images: {:.2f}%'.format(100*correct/total))"
   ]
  }
 ],
 "metadata": {
  "colab": {
   "provenance": []
  },
  "kernelspec": {
   "display_name": "Python 3 (ipykernel)",
   "language": "python",
   "name": "python3"
  },
  "language_info": {
   "codemirror_mode": {
    "name": "ipython",
    "version": 3
   },
   "file_extension": ".py",
   "mimetype": "text/x-python",
   "name": "python",
   "nbconvert_exporter": "python",
   "pygments_lexer": "ipython3",
   "version": "3.10.9"
  }
 },
 "nbformat": 4,
 "nbformat_minor": 1
}
