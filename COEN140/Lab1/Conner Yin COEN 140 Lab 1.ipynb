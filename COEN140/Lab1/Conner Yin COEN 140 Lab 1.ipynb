{
 "cells": [
  {
   "cell_type": "code",
   "execution_count": 1,
   "id": "4f100bac-53f7-43a5-afcb-9421213eea32",
   "metadata": {},
   "outputs": [],
   "source": [
    "# Imports\n",
    "import numpy as np\n",
    "import pandas as pd\n",
    "import matplotlib.pyplot as plt\n",
    "import time"
   ]
  },
  {
   "cell_type": "code",
   "execution_count": 2,
   "id": "d4850880-0d55-42a8-899d-29108d98388f",
   "metadata": {},
   "outputs": [
    {
     "name": "stdout",
     "output_type": "stream",
     "text": [
      "[1, 3, 5]\n",
      "[1, 3, 5, 7, 9]\n",
      "[1, 3, 5, 7, 9, 11, 13, 15, 17, 19, 21, 23, 25]\n"
     ]
    }
   ],
   "source": [
    "# Problem 1\n",
    "def oddNumbers(n):\n",
    "  return [i for i in range(0, n+1) if i % 2 != 0]\n",
    "\n",
    "print(oddNumbers(5))\n",
    "print(oddNumbers(10))\n",
    "print(oddNumbers(25))"
   ]
  },
  {
   "cell_type": "code",
   "execution_count": 4,
   "id": "576db451-af8c-460a-af9a-9020c785bd34",
   "metadata": {},
   "outputs": [
    {
     "name": "stdout",
     "output_type": "stream",
     "text": [
      "[['Daniel', '21', 'MECH'], ['Joe', '22', 'BIOE'], ['Mike', '22', 'COEN'], ['Pedro', '22', 'AMTH'], ['Ryan', '19', 'ELEN']]\n",
      "[['Ryan', '19', 'ELEN'], ['Daniel', '21', 'MECH'], ['Pedro', '22', 'AMTH'], ['Mike', '22', 'COEN'], ['Joe', '22', 'BIOE']]\n"
     ]
    }
   ],
   "source": [
    "# Problem 2\n",
    "def readFromCsv(filePath):\n",
    "  data = []\n",
    "  with open(filePath, 'r') as file:\n",
    "    for line in file.readlines():\n",
    "      data.append(line.strip().split(','))\n",
    "  return data\n",
    "  \n",
    "l = readFromCsv('students.csv')\n",
    "\n",
    "print(sorted(l))                    # A) Sort by first element (name)\n",
    "print(sorted(l, key=lambda x:x[1])) # B) Sort by second element (age)"
   ]
  },
  {
   "cell_type": "code",
   "execution_count": 5,
   "id": "5e15354c-fc41-4b6b-8e78-60086cc06aa7",
   "metadata": {},
   "outputs": [
    {
     "name": "stdout",
     "output_type": "stream",
     "text": [
      "e\n",
      "d\n"
     ]
    }
   ],
   "source": [
    "# Problem 3\n",
    "def frequentChar(str):\n",
    "  letters = {}\n",
    "  for char in str:\n",
    "    letters[char] = letters.get(char, 0) + 1\n",
    "  return max(letters, key=letters.get)\n",
    "\n",
    "print(frequentChar(\"frequent\"))\n",
    "print(frequentChar(\"aabbccddddddddee\"))"
   ]
  },
  {
   "cell_type": "code",
   "execution_count": 11,
   "id": "513bbd8f-64f9-475f-a1a0-e21e794e76e6",
   "metadata": {},
   "outputs": [
    {
     "name": "stdout",
     "output_type": "stream",
     "text": [
      "    Pedro  22  AMTH\n",
      "1  Daniel  21  MECH\n",
      "3     Joe  22  BIOE\n",
      "0    Mike  22  COEN\n",
      "2    Ryan  19  ELEN\n",
      "    Pedro  22  AMTH\n",
      "2    Ryan  19  ELEN\n",
      "1  Daniel  21  MECH\n",
      "0    Mike  22  COEN\n",
      "3     Joe  22  BIOE\n"
     ]
    }
   ],
   "source": [
    "# Problem 4\n",
    "def readFromCsvPandas(filePath):\n",
    "  return pd.read_csv(filePath)\n",
    "\n",
    "df = readFromCsvPandas('students.csv')\n",
    "print(df.sort_values(by=df.columns[0])) # A) Sort by first element (name)\n",
    "print(df.sort_values(by=df.columns[1])) # B) Sort by second element (age)"
   ]
  },
  {
   "cell_type": "code",
   "execution_count": 8,
   "id": "5a9f8811-b2de-4212-89d7-ef7f4ea03644",
   "metadata": {},
   "outputs": [
    {
     "name": "stdout",
     "output_type": "stream",
     "text": [
      "Time Elapsed Double For Loop: 0.004075527191162109\n",
      "Time Elapsed Plus Operator: 0.0\n"
     ]
    }
   ],
   "source": [
    "# Problem 5\n",
    "def forLoopAdd(a1, a2):\n",
    "  initialTime = time.time()\n",
    "  for i in range(100):\n",
    "    for j in range(100):\n",
    "      a1[i,j] + a2[i,j]\n",
    "  return time.time() - initialTime\n",
    "\n",
    "def plusOpAdd(a1, a2):\n",
    "  initialTime = time.time()\n",
    "  a1 + a2\n",
    "  return time.time() - initialTime\n",
    "\n",
    "a1, a2 = np.random.random((100,100)), np.random.random((100,100))\n",
    "print(\"Time Elapsed Double For Loop: \" + str(forLoopAdd(a1, a2)))\n",
    "print(\"Time Elapsed Plus Operator: \" + str(plusOpAdd(a1, a2)))\n"
   ]
  },
  {
   "cell_type": "code",
   "execution_count": 9,
   "id": "b7316012-91d6-4234-8b58-bb0ec6fe6373",
   "metadata": {},
   "outputs": [
    {
     "name": "stdout",
     "output_type": "stream",
     "text": [
      "Double For Loop Mean: 0.0030882787704467774\n",
      "Double For Loop Standard Deviation: 0.0002895985152835002\n",
      "Plus Operator Mean: 8.894681930541993e-06\n",
      "Plus Operator Standard Deviation: 0.0002895985152835002\n"
     ]
    },
    {
     "data": {
      "image/png": "[encoded data removed]",
      "text/plain": [
       "<Figure size 640x480 with 1 Axes>"
      ]
     },
     "metadata": {},
     "output_type": "display_data"
    },
    {
     "data": {
      "image/png": "[encoded data removed]",
      "text/plain": [
       "<Figure size 640x480 with 1 Axes>"
      ]
     },
     "metadata": {},
     "output_type": "display_data"
    }
   ],
   "source": [
    "# Problem 6\n",
    "a1, a2 = np.random.random((100,100)), np.random.random((100,100))\n",
    "forLoopTimes, plusOpTimes = np.zeros(1000), np.zeros(1000)\n",
    "\n",
    "for i in range(1000):\n",
    "  forLoopTimes[i] = forLoopAdd(a1, a2)\n",
    "  plusOpTimes[i] = plusOpAdd(a1, a2)\n",
    "\n",
    "mean1, std1 = np.mean(forLoopTimes), np.std(forLoopTimes)\n",
    "mean2, std2 = np.mean(plusOpTimes), np.std(forLoopTimes)\n",
    "print(\"Double For Loop Mean: \" + str(mean1))\n",
    "print(\"Double For Loop Standard Deviation: \" + str(std1))\n",
    "print(\"Plus Operator Mean: \" + str(mean2))\n",
    "print(\"Plus Operator Standard Deviation: \" + str(std2))\n",
    "\n",
    "num_bins = 30\n",
    "plt.hist(forLoopTimes, num_bins, facecolor='blue')\n",
    "plt.show()\n",
    "plt.hist(plusOpTimes, num_bins, facecolor='red')\n",
    "plt.show()"
   ]
  },
  {
   "cell_type": "code",
   "execution_count": 10,
   "id": "552ff31d-1129-44c7-90aa-eba199a6a309",
   "metadata": {},
   "outputs": [
    {
     "data": {
      "text/plain": [
       "120"
      ]
     },
     "execution_count": 10,
     "metadata": {},
     "output_type": "execute_result"
    }
   ],
   "source": [
    "# Problem 7\n",
    "def factorial(n):\n",
    "  return n * factorial(n-1) if n != 0 else 1\n",
    "\n",
    "factorial(5)"
   ]
  }
 ],
 "metadata": {
  "kernelspec": {
   "display_name": "Python 3 (ipykernel)",
   "language": "python",
   "name": "python3"
  },
  "language_info": {
   "codemirror_mode": {
    "name": "ipython",
    "version": 3
   },
   "file_extension": ".py",
   "mimetype": "text/x-python",
   "name": "python",
   "nbconvert_exporter": "python",
   "pygments_lexer": "ipython3",
   "version": "3.10.9"
  }
 },
 "nbformat": 4,
 "nbformat_minor": 5
}
