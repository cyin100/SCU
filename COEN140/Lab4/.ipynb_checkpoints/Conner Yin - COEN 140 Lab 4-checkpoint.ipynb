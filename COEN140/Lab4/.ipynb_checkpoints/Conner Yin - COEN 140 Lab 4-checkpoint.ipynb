{
 "cells": [
  {
   "cell_type": "code",
   "execution_count": 10,
   "id": "1107e8a1",
   "metadata": {},
   "outputs": [],
   "source": [
    "# Imports\n",
    "import numpy as np\n",
    "import matplotlib.pyplot as plt\n",
    "import pandas as pd\n",
    "import seaborn as sns\n",
    "from itertools import combinations\n",
    "import math\n",
    "from sklearn.metrics import mean_squared_error"
   ]
  },
  {
   "cell_type": "code",
   "execution_count": 13,
   "id": "db11172b",
   "metadata": {},
   "outputs": [
    {
     "ename": "KeyError",
     "evalue": "194",
     "output_type": "error",
     "traceback": [
      "\u001b[1;31m---------------------------------------------------------------------------\u001b[0m",
      "\u001b[1;31mKeyError\u001b[0m                                  Traceback (most recent call last)",
      "Cell \u001b[1;32mIn[13], line 3\u001b[0m\n\u001b[0;32m      1\u001b[0m \u001b[38;5;66;03m# Import CA Housing Dataset\u001b[39;00m\n\u001b[0;32m      2\u001b[0m \u001b[38;5;28;01mfrom\u001b[39;00m \u001b[38;5;21;01msklearn\u001b[39;00m\u001b[38;5;21;01m.\u001b[39;00m\u001b[38;5;21;01mdatasets\u001b[39;00m \u001b[38;5;28;01mimport\u001b[39;00m fetch_california_housing\n\u001b[1;32m----> 3\u001b[0m hd \u001b[38;5;241m=\u001b[39m \u001b[43mfetch_california_housing\u001b[49m\u001b[43m(\u001b[49m\u001b[43m)\u001b[49m\n\u001b[0;32m      4\u001b[0m housing \u001b[38;5;241m=\u001b[39m pd\u001b[38;5;241m.\u001b[39mDataFrame(hd\u001b[38;5;241m.\u001b[39mdata, columns\u001b[38;5;241m=\u001b[39mhd\u001b[38;5;241m.\u001b[39mfeature_names)\n\u001b[0;32m      5\u001b[0m housing[\u001b[38;5;124m'\u001b[39m\u001b[38;5;124mtarget\u001b[39m\u001b[38;5;124m'\u001b[39m] \u001b[38;5;241m=\u001b[39m hd\u001b[38;5;241m.\u001b[39mtarget\n",
      "File \u001b[1;32m~\\anaconda3\\lib\\site-packages\\sklearn\\datasets\\_california_housing.py:153\u001b[0m, in \u001b[0;36mfetch_california_housing\u001b[1;34m(data_home, download_if_missing, return_X_y, as_frame)\u001b[0m\n\u001b[0;32m    150\u001b[0m     remove(archive_path)\n\u001b[0;32m    152\u001b[0m \u001b[38;5;28;01melse\u001b[39;00m:\n\u001b[1;32m--> 153\u001b[0m     cal_housing \u001b[38;5;241m=\u001b[39m \u001b[43mjoblib\u001b[49m\u001b[38;5;241;43m.\u001b[39;49m\u001b[43mload\u001b[49m\u001b[43m(\u001b[49m\u001b[43mfilepath\u001b[49m\u001b[43m)\u001b[49m\n\u001b[0;32m    155\u001b[0m feature_names \u001b[38;5;241m=\u001b[39m [\n\u001b[0;32m    156\u001b[0m     \u001b[38;5;124m\"\u001b[39m\u001b[38;5;124mMedInc\u001b[39m\u001b[38;5;124m\"\u001b[39m,\n\u001b[0;32m    157\u001b[0m     \u001b[38;5;124m\"\u001b[39m\u001b[38;5;124mHouseAge\u001b[39m\u001b[38;5;124m\"\u001b[39m,\n\u001b[1;32m   (...)\u001b[0m\n\u001b[0;32m    163\u001b[0m     \u001b[38;5;124m\"\u001b[39m\u001b[38;5;124mLongitude\u001b[39m\u001b[38;5;124m\"\u001b[39m,\n\u001b[0;32m    164\u001b[0m ]\n\u001b[0;32m    166\u001b[0m target, data \u001b[38;5;241m=\u001b[39m cal_housing[:, \u001b[38;5;241m0\u001b[39m], cal_housing[:, \u001b[38;5;241m1\u001b[39m:]\n",
      "File \u001b[1;32m~\\anaconda3\\lib\\site-packages\\joblib\\numpy_pickle.py:587\u001b[0m, in \u001b[0;36mload\u001b[1;34m(filename, mmap_mode)\u001b[0m\n\u001b[0;32m    581\u001b[0m             \u001b[38;5;28;01mif\u001b[39;00m \u001b[38;5;28misinstance\u001b[39m(fobj, \u001b[38;5;28mstr\u001b[39m):\n\u001b[0;32m    582\u001b[0m                 \u001b[38;5;66;03m# if the returned file object is a string, this means we\u001b[39;00m\n\u001b[0;32m    583\u001b[0m                 \u001b[38;5;66;03m# try to load a pickle file generated with an version of\u001b[39;00m\n\u001b[0;32m    584\u001b[0m                 \u001b[38;5;66;03m# Joblib so we load it with joblib compatibility function.\u001b[39;00m\n\u001b[0;32m    585\u001b[0m                 \u001b[38;5;28;01mreturn\u001b[39;00m load_compatibility(fobj)\n\u001b[1;32m--> 587\u001b[0m             obj \u001b[38;5;241m=\u001b[39m \u001b[43m_unpickle\u001b[49m\u001b[43m(\u001b[49m\u001b[43mfobj\u001b[49m\u001b[43m,\u001b[49m\u001b[43m \u001b[49m\u001b[43mfilename\u001b[49m\u001b[43m,\u001b[49m\u001b[43m \u001b[49m\u001b[43mmmap_mode\u001b[49m\u001b[43m)\u001b[49m\n\u001b[0;32m    588\u001b[0m \u001b[38;5;28;01mreturn\u001b[39;00m obj\n",
      "File \u001b[1;32m~\\anaconda3\\lib\\site-packages\\joblib\\numpy_pickle.py:506\u001b[0m, in \u001b[0;36m_unpickle\u001b[1;34m(fobj, filename, mmap_mode)\u001b[0m\n\u001b[0;32m    504\u001b[0m obj \u001b[38;5;241m=\u001b[39m \u001b[38;5;28;01mNone\u001b[39;00m\n\u001b[0;32m    505\u001b[0m \u001b[38;5;28;01mtry\u001b[39;00m:\n\u001b[1;32m--> 506\u001b[0m     obj \u001b[38;5;241m=\u001b[39m \u001b[43munpickler\u001b[49m\u001b[38;5;241;43m.\u001b[39;49m\u001b[43mload\u001b[49m\u001b[43m(\u001b[49m\u001b[43m)\u001b[49m\n\u001b[0;32m    507\u001b[0m     \u001b[38;5;28;01mif\u001b[39;00m unpickler\u001b[38;5;241m.\u001b[39mcompat_mode:\n\u001b[0;32m    508\u001b[0m         warnings\u001b[38;5;241m.\u001b[39mwarn(\u001b[38;5;124m\"\u001b[39m\u001b[38;5;124mThe file \u001b[39m\u001b[38;5;124m'\u001b[39m\u001b[38;5;132;01m%s\u001b[39;00m\u001b[38;5;124m'\u001b[39m\u001b[38;5;124m has been generated with a \u001b[39m\u001b[38;5;124m\"\u001b[39m\n\u001b[0;32m    509\u001b[0m                       \u001b[38;5;124m\"\u001b[39m\u001b[38;5;124mjoblib version less than 0.10. \u001b[39m\u001b[38;5;124m\"\u001b[39m\n\u001b[0;32m    510\u001b[0m                       \u001b[38;5;124m\"\u001b[39m\u001b[38;5;124mPlease regenerate this pickle file.\u001b[39m\u001b[38;5;124m\"\u001b[39m\n\u001b[0;32m    511\u001b[0m                       \u001b[38;5;241m%\u001b[39m filename,\n\u001b[0;32m    512\u001b[0m                       \u001b[38;5;167;01mDeprecationWarning\u001b[39;00m, stacklevel\u001b[38;5;241m=\u001b[39m\u001b[38;5;241m3\u001b[39m)\n",
      "File \u001b[1;32m~\\anaconda3\\lib\\pickle.py:1213\u001b[0m, in \u001b[0;36m_Unpickler.load\u001b[1;34m(self)\u001b[0m\n\u001b[0;32m   1211\u001b[0m             \u001b[38;5;28;01mraise\u001b[39;00m \u001b[38;5;167;01mEOFError\u001b[39;00m\n\u001b[0;32m   1212\u001b[0m         \u001b[38;5;28;01massert\u001b[39;00m \u001b[38;5;28misinstance\u001b[39m(key, bytes_types)\n\u001b[1;32m-> 1213\u001b[0m         \u001b[43mdispatch\u001b[49m\u001b[43m[\u001b[49m\u001b[43mkey\u001b[49m\u001b[43m[\u001b[49m\u001b[38;5;241;43m0\u001b[39;49m\u001b[43m]\u001b[49m\u001b[43m]\u001b[49m(\u001b[38;5;28mself\u001b[39m)\n\u001b[0;32m   1214\u001b[0m \u001b[38;5;28;01mexcept\u001b[39;00m _Stop \u001b[38;5;28;01mas\u001b[39;00m stopinst:\n\u001b[0;32m   1215\u001b[0m     \u001b[38;5;28;01mreturn\u001b[39;00m stopinst\u001b[38;5;241m.\u001b[39mvalue\n",
      "\u001b[1;31mKeyError\u001b[0m: 194"
     ]
    }
   ],
   "source": [
    "# Import CA Housing Dataset\n",
    "from sklearn.datasets import fetch_california_housing\n",
    "hd = fetch_california_housing()\n",
    "housing = pd.DataFrame(hd.data, columns=hd.feature_names)\n",
    "housing['target'] = hd.target\n",
    "housing.iloc[:,:].plot.scatter(x='MedInc', y='target')"
   ]
  },
  {
   "cell_type": "code",
   "execution_count": 5,
   "id": "73371c59",
   "metadata": {},
   "outputs": [],
   "source": [
    "def gradient(t, X, y):\n",
    "    \"\"\"Compute the current error and gradient.\"\"\"\n",
    "    # Hypothesis/estimate values for y\n",
    "    y_estimate = X.dot(t).flatten()\n",
    "    # Loss - the difference between the estimated and actual values of y\n",
    "    loss = y.flatten() - y_estimate\n",
    "    m = float(len(X))\n",
    "    # Compute gradient\n",
    "    grad = -(1.0 / m) * loss.dot(X)\n",
    "    # Cost function value\n",
    "    cost = (0.5 / m) * np.sum(np.power(loss, 2))\n",
    "    return grad, cost"
   ]
  },
  {
   "cell_type": "code",
   "execution_count": 6,
   "id": "e19508a3",
   "metadata": {},
   "outputs": [],
   "source": [
    "def gradient_descent(x, y, alpha=0.5, tolerance=1e-5, maxit=1e+6, nulbias=False):\n",
    "    \"\"\" Finds the best line fit for predicting y given x. Keep track of and also \n",
    "    return tested models, gradients, and errors along the optimization path.\"\"\"\n",
    "    # Add intercept term to x -- acounts for the bias -- and normalize x's\n",
    "    X = np.hstack((np.ones((x.shape[0], 1)), x/x.max(axis=0)))\n",
    "    # Start with a random theta vector with size n+1\n",
    "    t = np.random.randn(X.shape[1])\n",
    "    if nulbias:\n",
    "        t[0] = 0\n",
    "    # perform gradient descent\n",
    "    it = 0\n",
    "    models = []\n",
    "    grads = []\n",
    "    errors = []\n",
    "    while it < maxit:\n",
    "        grad, error = gradient(t, X, y)\n",
    "        models.append(t)\n",
    "        grads.append(grad)\n",
    "        errors.append(error)\n",
    "        new_t = t - alpha * grad\n",
    "        if nulbias:\n",
    "            new_t[0] = 0\n",
    "        # check whether we should stop\n",
    "        if np.sum(abs(new_t - t)) < tolerance:\n",
    "            break\n",
    "        # update theta\n",
    "        t = new_t\n",
    "        it += 1\n",
    "    if it == maxit:\n",
    "        print(\"Warning: reached maximum number of iterations without convergence.\")\n",
    "    return X, t, models, grads, errors"
   ]
  },
  {
   "cell_type": "code",
   "execution_count": 7,
   "id": "f2102d0b",
   "metadata": {},
   "outputs": [],
   "source": [
    "def plotmodel(x, y, t, start_at_zero=False):\n",
    "    \"\"\"Plot the line of a given model.\"\"\"\n",
    "    if t is not None:\n",
    "        if start_at_zero:\n",
    "            x = np.append([0], x)\n",
    "            y = np.append([0], y)\n",
    "        plt.plot(x, t[0] + x/x.max() * t[1], c='g', label='Model')\n",
    "#         equivalent to:\n",
    "#         X = np.vstack((np.ones_like(x), x/x.max())).T\n",
    "#         plt.plot(x, X.dot(t), c='g', label='Model')\n",
    "    plt.scatter(x, y, c='b', label='Data')\n",
    "    plt.legend(loc='best')\n",
    "    plt.xlabel('MedInc')\n",
    "    plt.ylabel('Median House Price (x$100,000)')\n",
    "    if start_at_zero:\n",
    "        plt.ylim(ymin=0)\n",
    "        plt.xlim(xmin=0)\n",
    "    plt.show()"
   ]
  },
  {
   "cell_type": "code",
   "execution_count": 8,
   "id": "e6887da1",
   "metadata": {},
   "outputs": [
    {
     "ename": "NameError",
     "evalue": "name 'housing' is not defined",
     "output_type": "error",
     "traceback": [
      "\u001b[1;31m---------------------------------------------------------------------------\u001b[0m",
      "\u001b[1;31mNameError\u001b[0m                                 Traceback (most recent call last)",
      "Cell \u001b[1;32mIn[8], line 7\u001b[0m\n\u001b[0;32m      3\u001b[0m \u001b[38;5;66;03m# Loop through every combination of 2 attributes\u001b[39;00m\n\u001b[0;32m      4\u001b[0m \u001b[38;5;28;01mfor\u001b[39;00m attribute1, attribute2 \u001b[38;5;129;01min\u001b[39;00m \u001b[38;5;28mlist\u001b[39m(combinations(attributes, \u001b[38;5;241m2\u001b[39m)):\n\u001b[0;32m      5\u001b[0m \n\u001b[0;32m      6\u001b[0m     \u001b[38;5;66;03m# Get numpy arrays for data for your 2 attributes\u001b[39;00m\n\u001b[1;32m----> 7\u001b[0m     data \u001b[38;5;241m=\u001b[39m \u001b[43mhousing\u001b[49m\u001b[38;5;241m.\u001b[39mloc[:,[attribute1, attribute2, \u001b[38;5;124m'\u001b[39m\u001b[38;5;124mtarget\u001b[39m\u001b[38;5;124m'\u001b[39m]]\u001b[38;5;241m.\u001b[39mto_numpy()\n\u001b[0;32m      8\u001b[0m     x \u001b[38;5;241m=\u001b[39m data[:,\u001b[38;5;241m0\u001b[39m:\u001b[38;5;241m2\u001b[39m]\n\u001b[0;32m      9\u001b[0m     y \u001b[38;5;241m=\u001b[39m data[:,\u001b[38;5;241m2\u001b[39m]\n",
      "\u001b[1;31mNameError\u001b[0m: name 'housing' is not defined"
     ]
    }
   ],
   "source": [
    "prints = []\n",
    "attributes = ['MedInc', 'HouseAge', 'AveRooms', 'AveBedrms', 'Population', 'AveOccup', 'Latitude', 'Longitude']\n",
    "# Loop through every combination of 2 attributes\n",
    "for attribute1, attribute2 in list(combinations(attributes, 2)):\n",
    "\n",
    "    # Get numpy arrays for data for your 2 attributes\n",
    "    data = housing.loc[:,[attribute1, attribute2, 'target']].to_numpy()\n",
    "    x = data[:,0:2]\n",
    "    y = data[:,2]\n",
    "\n",
    "    # Call gradient descent with data and store values into X, t, etc.\n",
    "    X, t, models, grads, errors = gradient_descent(x, y, nulbias=True) \n",
    "    \n",
    "    # Store data into list and print data\n",
    "    data = [attribute1, attribute2, mean_squared_error(y, X.dot(t).flatten()), y, X.dot(t).flatten()]\n",
    "    prints.append(data)\n",
    "    print(data)"
   ]
  },
  {
   "cell_type": "code",
   "execution_count": 9,
   "id": "86c4dd22",
   "metadata": {},
   "outputs": [
    {
     "ename": "IndexError",
     "evalue": "list index out of range",
     "output_type": "error",
     "traceback": [
      "\u001b[1;31m---------------------------------------------------------------------------\u001b[0m",
      "\u001b[1;31mIndexError\u001b[0m                                Traceback (most recent call last)",
      "Cell \u001b[1;32mIn[9], line 3\u001b[0m\n\u001b[0;32m      1\u001b[0m \u001b[38;5;66;03m# Sort data by mean squared error and print the lowest value\u001b[39;00m\n\u001b[0;32m      2\u001b[0m prints\u001b[38;5;241m.\u001b[39msort(key\u001b[38;5;241m=\u001b[39m\u001b[38;5;28;01mlambda\u001b[39;00m x: x[\u001b[38;5;241m2\u001b[39m], reverse\u001b[38;5;241m=\u001b[39m\u001b[38;5;28;01mTrue\u001b[39;00m)\n\u001b[1;32m----> 3\u001b[0m \u001b[38;5;28mprint\u001b[39m(\u001b[43mprints\u001b[49m\u001b[43m[\u001b[49m\u001b[38;5;241;43m0\u001b[39;49m\u001b[43m]\u001b[49m)\n",
      "\u001b[1;31mIndexError\u001b[0m: list index out of range"
     ]
    }
   ],
   "source": [
    "# Sort data by mean squared error and print the lowest value\n",
    "prints.sort(key=lambda x: x[2], reverse=True)\n",
    "print(prints[0])"
   ]
  }
 ],
 "metadata": {
  "kernelspec": {
   "display_name": "Python 3 (ipykernel)",
   "language": "python",
   "name": "python3"
  },
  "language_info": {
   "codemirror_mode": {
    "name": "ipython",
    "version": 3
   },
   "file_extension": ".py",
   "mimetype": "text/x-python",
   "name": "python",
   "nbconvert_exporter": "python",
   "pygments_lexer": "ipython3",
   "version": "3.10.9"
  }
 },
 "nbformat": 4,
 "nbformat_minor": 5
}
